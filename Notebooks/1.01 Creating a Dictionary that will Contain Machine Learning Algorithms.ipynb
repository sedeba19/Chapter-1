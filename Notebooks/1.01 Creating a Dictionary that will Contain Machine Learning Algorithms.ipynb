{
 "cells": [
  {
   "cell_type": "code",
   "execution_count": 1,
   "metadata": {},
   "outputs": [],
   "source": [
    "algorithm = ['Linear Regression', 'Logistic Regression', \n",
    "             'RandomForest', 'a3c']\n",
    "learning = ['Supervised', 'Supervised', 'Supervised', \n",
    "            'Reinforcement']\n",
    "algorithm_type = ['Regression', 'Classification', \n",
    "                  'Regression or Classification', 'Game AI']\n"
   ]
  },
  {
   "cell_type": "code",
   "execution_count": 2,
   "metadata": {},
   "outputs": [
    {
     "name": "stdout",
     "output_type": "stream",
     "text": [
      "['Linear Regression', 'Logistic Regression', 'RandomForest', 'a3c', 'k-means']\n"
     ]
    }
   ],
   "source": [
    "algorithm.append('k-means')\n",
    "print(algorithm)"
   ]
  },
  {
   "cell_type": "code",
   "execution_count": 3,
   "metadata": {},
   "outputs": [
    {
     "data": {
      "text/plain": [
       "['Supervised', 'Supervised', 'Supervised', 'Reinforcement', 'Unsupervised']"
      ]
     },
     "execution_count": 3,
     "metadata": {},
     "output_type": "execute_result"
    }
   ],
   "source": [
    "learning.append('Unsupervised')\n",
    "learning"
   ]
  },
  {
   "cell_type": "code",
   "execution_count": 4,
   "metadata": {},
   "outputs": [
    {
     "data": {
      "text/plain": [
       "['Regression',\n",
       " 'Classification',\n",
       " 'Regression or Classification',\n",
       " 'Game AI',\n",
       " 'Clustering']"
      ]
     },
     "execution_count": 4,
     "metadata": {},
     "output_type": "execute_result"
    }
   ],
   "source": [
    "algorithm_type.append('Clustering')\n",
    "algorithm_type"
   ]
  },
  {
   "cell_type": "code",
   "execution_count": 5,
   "metadata": {},
   "outputs": [
    {
     "name": "stdout",
     "output_type": "stream",
     "text": [
      "{'algorithm': ['Linear Regression', 'Logistic Regression', 'RandomForest', 'a3c', 'k-means']}\n",
      "{'algorithm': ['Linear Regression', 'Logistic Regression', 'RandomForest', 'a3c', 'k-means'], 'learning': ['Supervised', 'Supervised', 'Supervised', 'Reinforcement', 'Unsupervised']}\n",
      "{'algorithm': ['Linear Regression', 'Logistic Regression', 'RandomForest', 'a3c', 'k-means'], 'learning': ['Supervised', 'Supervised', 'Supervised', 'Reinforcement', 'Unsupervised'], 'algorithm_type': ['Regression', 'Classification', 'Regression or Classification', 'Game AI', 'Clustering']}\n"
     ]
    }
   ],
   "source": [
    "machine_learning = {}\n",
    "machine_learning['algorithm'] = algorithm\n",
    "print(machine_learning)\n",
    "machine_learning['learning'] = learning\n",
    "print(machine_learning)\n",
    "machine_learning['algorithm_type'] = algorithm_type\n",
    "print(machine_learning)"
   ]
  },
  {
   "cell_type": "code",
   "execution_count": 6,
   "metadata": {},
   "outputs": [],
   "source": [
    "# Remove the `a3c` item from the `algorithm` key using the `.remove()` method\n",
    "machine_learning['algorithm'].remove('a3c')"
   ]
  },
  {
   "cell_type": "code",
   "execution_count": 7,
   "metadata": {},
   "outputs": [
    {
     "name": "stdout",
     "output_type": "stream",
     "text": [
      "['Linear Regression', 'Logistic Regression', 'RandomForest', 'k-means']\n"
     ]
    }
   ],
   "source": [
    "print(machine_learning['algorithm'])"
   ]
  },
  {
   "cell_type": "code",
   "execution_count": 8,
   "metadata": {},
   "outputs": [
    {
     "data": {
      "text/plain": [
       "['Linear Regression', 'Logistic Regression', 'RandomForest', 'k-means']"
      ]
     },
     "execution_count": 8,
     "metadata": {},
     "output_type": "execute_result"
    }
   ],
   "source": [
    "machine_learning['algorithm']"
   ]
  },
  {
   "cell_type": "code",
   "execution_count": 9,
   "metadata": {},
   "outputs": [
    {
     "name": "stdout",
     "output_type": "stream",
     "text": [
      "{'algorithm': ['Linear Regression', 'Logistic Regression', 'RandomForest', 'k-means'], 'learning': ['Supervised', 'Supervised', 'Supervised', 'Unsupervised'], 'algorithm_type': ['Regression', 'Classification', 'Regression or Classification', 'Clustering']}\n"
     ]
    }
   ],
   "source": [
    "# Remove the `Reinforcement` item from the `learning` key using the `.remove()` method\n",
    "machine_learning['learning'].remove('Reinforcement')\n",
    "\n",
    "# Remove the `Game AI` item from the `algorithm_type` key using the `.remove()` method\n",
    "machine_learning['algorithm_type'].remove('Game AI')\n",
    "print(machine_learning)"
   ]
  },
  {
   "cell_type": "code",
   "execution_count": 10,
   "metadata": {},
   "outputs": [
    {
     "data": {
      "text/plain": [
       "['Regression', 'Classification', 'Regression or Classification', 'Clustering']"
      ]
     },
     "execution_count": 10,
     "metadata": {},
     "output_type": "execute_result"
    }
   ],
   "source": [
    "machine_learning['algorithm_type']"
   ]
  }
 ],
 "metadata": {
  "kernelspec": {
   "display_name": "Python 3",
   "language": "python",
   "name": "python3"
  },
  "language_info": {
   "codemirror_mode": {
    "name": "ipython",
    "version": 3
   },
   "file_extension": ".py",
   "mimetype": "text/x-python",
   "name": "python",
   "nbconvert_exporter": "python",
   "pygments_lexer": "ipython3",
   "version": "3.10.9"
  },
  "orig_nbformat": 4
 },
 "nbformat": 4,
 "nbformat_minor": 2
}
